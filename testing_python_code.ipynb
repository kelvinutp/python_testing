{
 "cells": [
  {
   "attachments": {},
   "cell_type": "markdown",
   "metadata": {},
   "source": [
    "Revision de codigos de Python"
   ]
  },
  {
   "attachments": {},
   "cell_type": "markdown",
   "metadata": {},
   "source": [
    "revisar\n",
    "1. funciones\n",
    "2. variables, listas, tuplas y diccionarios\n",
    "3. librerias\n",
    "4. decisiones (if/match)\n",
    "5. bucles (for, while)\n",
    "6. entrada y salidas (input, print, open)"
   ]
  },
  {
   "cell_type": "code",
   "execution_count": 29,
   "metadata": {},
   "outputs": [],
   "source": [
    "#leer archivo\n",
    "librerias=[]\n",
    "funciones=[]\n",
    "clases=[]\n",
    "decisiones=[]\n",
    "comments=[]\n",
    "with open('funcion.py','r')as file:\n",
    "    a=file.readlines()\n",
    "    for b in a:\n",
    "        c=b.strip()\n",
    "        if 'import' in c:\n",
    "            librerias.append(c)\n",
    "        elif 'def' in c:\n",
    "            funciones.append(c)\n",
    "        elif 'class' in c:\n",
    "            clases.append(c)\n",
    "        elif 'if' in c:\n",
    "            decisiones.append(c)\n",
    "        elif '#' in c:\n",
    "            comments.append(c)\n",
    "        else:\n",
    "            pass\n",
    "\n",
    "file.close()"
   ]
  },
  {
   "cell_type": "code",
   "execution_count": 6,
   "metadata": {},
   "outputs": [
    {
     "name": "stdout",
     "output_type": "stream",
     "text": [
      "#funcion base para probar\n",
      "\n",
      "import subprocess as sp\n",
      "\n",
      "import time\n",
      "\n",
      "'''\n",
      "\n",
      ">>> msg_box('pruebas con doctest')\n",
      "\n",
      "'pruebas con doctest'\n",
      "\n",
      "'''\n",
      "\n",
      "def msg_box(message='Hello world'):\n",
      "\n",
      "    msg='msg CIDETYS-AIP /TIME 3 '+message\n",
      "\n",
      "    sp.check_output(msg)\n",
      "\n",
      "    return message\n",
      "\n",
      "def cua(a,b,c):\n",
      "\n",
      "    '''\n",
      "\n",
      "    solucion de ecuaciones cuadraticas ax^2+bc+c=0\n",
      "\n",
      "    '''\n",
      "\n",
      "    x1=(-b+(b^2-4*a*c)**0.5)/(2*a)\n",
      "\n",
      "    x2=(-b-(b^2-4*a*c)**0.5)/(2*a)\n",
      "\n",
      "    return x1,x2\n",
      "\n",
      "if __name__=='__main__':\n",
      "\n",
      "    # msg_box('saludos')\n",
      "\n",
      "    # import doctest\n",
      "\n",
      "    # doctest.testmod()\n",
      "\n",
      "    print(cua(1,5,6))\n"
     ]
    }
   ],
   "source": [
    "for b in a:\n",
    "    if not(b.isspace()):\n",
    "        print(b)"
   ]
  },
  {
   "cell_type": "code",
   "execution_count": 15,
   "metadata": {},
   "outputs": [
    {
     "data": {
      "text/plain": [
       "2"
      ]
     },
     "execution_count": 15,
     "metadata": {},
     "output_type": "execute_result"
    }
   ],
   "source": [
    "a.index(\"import time\\n\")"
   ]
  },
  {
   "cell_type": "code",
   "execution_count": 27,
   "metadata": {},
   "outputs": [
    {
     "data": {
      "text/plain": [
       "True"
      ]
     },
     "execution_count": 27,
     "metadata": {},
     "output_type": "execute_result"
    }
   ],
   "source": [
    "'    ' in a[10]"
   ]
  },
  {
   "cell_type": "code",
   "execution_count": 25,
   "metadata": {},
   "outputs": [
    {
     "name": "stdout",
     "output_type": "stream",
     "text": [
      "espacio\n",
      "espacio\n",
      "espacio\n",
      "espacio\n",
      "4 .  s tipo:  <class 'str'>\n",
      "5 .  p tipo:  <class 'str'>\n",
      "6 .  . tipo:  <class 'str'>\n",
      "7 .  c tipo:  <class 'str'>\n",
      "8 .  h tipo:  <class 'str'>\n",
      "9 .  e tipo:  <class 'str'>\n",
      "10 .  c tipo:  <class 'str'>\n",
      "11 .  k tipo:  <class 'str'>\n",
      "12 .  _ tipo:  <class 'str'>\n",
      "13 .  o tipo:  <class 'str'>\n",
      "14 .  u tipo:  <class 'str'>\n",
      "15 .  t tipo:  <class 'str'>\n",
      "16 .  p tipo:  <class 'str'>\n",
      "17 .  u tipo:  <class 'str'>\n",
      "18 .  t tipo:  <class 'str'>\n",
      "19 .  ( tipo:  <class 'str'>\n",
      "20 .  m tipo:  <class 'str'>\n",
      "21 .  s tipo:  <class 'str'>\n",
      "22 .  g tipo:  <class 'str'>\n",
      "23 .  ) tipo:  <class 'str'>\n",
      "24 .  \n",
      " tipo:  <class 'str'>\n"
     ]
    }
   ],
   "source": [
    "for b,c in enumerate(a[10]):\n",
    "    if c==' ':\n",
    "        print(\"espacio\")\n",
    "    else:   \n",
    "        print(b,'. ',c,'tipo: ',type(c))"
   ]
  },
  {
   "cell_type": "code",
   "execution_count": 33,
   "metadata": {},
   "outputs": [
    {
     "name": "stdout",
     "output_type": "stream",
     "text": [
      "#funcion base para probar\n",
      "\n",
      "import subprocess as sp\n",
      "\n",
      "import time\n",
      "\n",
      "\n",
      "\n",
      "'''\n",
      "\n",
      ">>> msg_box('pruebas con doctest')\n",
      "\n",
      "'pruebas con doctest'\n",
      "\n",
      "'''\n",
      "\n",
      "def msg_box(message='Hello world'):\n",
      "\n",
      "lineas de funcion\n",
      "cantidad de espacios 8\n",
      "lineas de funcion\n",
      "cantidad de espacios 4\n",
      "lineas de funcion\n",
      "cantidad de espacios 5\n",
      "\n",
      "\n",
      "def cua(a,b,c):\n",
      "\n",
      "lineas de funcion\n",
      "cantidad de espacios 4\n",
      "lineas de funcion\n",
      "cantidad de espacios 8\n",
      "lineas de funcion\n",
      "cantidad de espacios 4\n",
      "lineas de funcion\n",
      "cantidad de espacios 4\n",
      "lineas de funcion\n",
      "cantidad de espacios 4\n",
      "lineas de funcion\n",
      "cantidad de espacios 5\n",
      "\n",
      "\n",
      "\n",
      "\n",
      "if __name__=='__main__':\n",
      "\n",
      "lineas de funcion\n",
      "cantidad de espacios 5\n",
      "lineas de funcion\n",
      "cantidad de espacios 6\n",
      "lineas de funcion\n",
      "cantidad de espacios 5\n",
      "lineas de funcion\n",
      "cantidad de espacios 4\n"
     ]
    }
   ],
   "source": [
    "for b in a:\n",
    "    if ' ' == b[0]:#4 espacios correspondientes a tabulacion\n",
    "        print('lineas de funcion')\n",
    "        print('cantidad de espacios',b.count(\" \"))\n",
    "    else:\n",
    "        print(b)"
   ]
  },
  {
   "cell_type": "code",
   "execution_count": null,
   "metadata": {},
   "outputs": [],
   "source": []
  }
 ],
 "metadata": {
  "kernelspec": {
   "display_name": "venv",
   "language": "python",
   "name": "python3"
  },
  "language_info": {
   "codemirror_mode": {
    "name": "ipython",
    "version": 3
   },
   "file_extension": ".py",
   "mimetype": "text/x-python",
   "name": "python",
   "nbconvert_exporter": "python",
   "pygments_lexer": "ipython3",
   "version": "3.11.0"
  },
  "orig_nbformat": 4
 },
 "nbformat": 4,
 "nbformat_minor": 2
}
